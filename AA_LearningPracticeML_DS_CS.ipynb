{
  "nbformat": 4,
  "nbformat_minor": 0,
  "metadata": {
    "colab": {
      "name": "AA-LearningPracticeML_DS_CS.ipynb",
      "version": "0.3.2",
      "provenance": [],
      "include_colab_link": true
    },
    "kernelspec": {
      "name": "python3",
      "display_name": "Python 3"
    }
  },
  "cells": [
    {
      "cell_type": "markdown",
      "metadata": {
        "id": "view-in-github",
        "colab_type": "text"
      },
      "source": [
        "<a href=\"https://colab.research.google.com/github/waterFlowin/AA-LearningPracticeML_DS_CS/blob/master/AA_LearningPracticeML_DS_CS.ipynb\" target=\"_parent\"><img src=\"https://colab.research.google.com/assets/colab-badge.svg\" alt=\"Open In Colab\"/></a>"
      ]
    },
    {
      "metadata": {
        "id": "FKHQfBWf67KJ",
        "colab_type": "text"
      },
      "cell_type": "markdown",
      "source": [
        "# Foundation of which I believe this learning approach will work.\n",
        "- Neuroscience\n",
        "- How the brain changes physically with 'learning'\n",
        "- Habits and Momentum building\n",
        "- Improvement at 1% but done consistently Almost Every Day == Strong\n",
        "- Honest Focus\n",
        "- Flow is the Goal. (Flow = a bunch of chemistry happening in the brain/body)\n",
        "- This method allows you to **Burn Out** and remain **Consistent**"
      ]
    },
    {
      "metadata": {
        "id": "8ma5jGPxGvMt",
        "colab_type": "text"
      },
      "cell_type": "markdown",
      "source": [
        "#Brain Baby\n",
        "\n",
        "This idea is just that, new, still being developed and most importantly UNPROVEN."
      ]
    },
    {
      "metadata": {
        "id": "Dd3nuLSk34Ah",
        "colab_type": "text"
      },
      "cell_type": "markdown",
      "source": [
        "# Learn a Concept or Learn Code or Both"
      ]
    },
    {
      "metadata": {
        "id": "l_daMbsSxlyV",
        "colab_type": "code",
        "colab": {}
      },
      "cell_type": "code",
      "source": [
        "# Goals\n",
        "\n",
        "## To understand Concepts and Code of Computer Science, Data Science, and Machine Learning\n",
        "\n",
        "## Do 1 min per topic\n",
        "## All topics\n",
        "## Almost Every Day\n",
        "\n",
        "## Honest Focused Minutes recorded ONLY!\n",
        "\n",
        "## The Goal is Flow\n",
        "## To feel good and honestly enjoy the day learning this information"
      ],
      "execution_count": 0,
      "outputs": []
    },
    {
      "metadata": {
        "id": "znpSTImAyC9G",
        "colab_type": "code",
        "colab": {}
      },
      "cell_type": "code",
      "source": [
        "# Rules\n",
        "\n",
        "## No more than 20 min on a topic.\n",
        "## If you studied 20 minutes on a topic then..\n",
        "## Switch Topics or Take A BREAK!\n",
        "\n",
        "# I don't trust your focus to not wander past\n",
        "# 20 minutes because you are a human brain.\n",
        "\n",
        "## If you're honestly interested and fully FOCUSED on the topic you are learning then..\n",
        "## you are **allowed** to ride that wave of HONEST INTEREST and FOCUS past 20 minutes until..\n",
        "# ..it burns out, you finish what you're on or w/e else happens that you're not focusing on your topic/goal.\n",
        "\n",
        "## Do not record minutes that you daydreamed, sidetracked or w/e.\n",
        "## Use best judgement\n",
        "\n",
        "# You are your own Boss\n",
        "# You own your day, do this when is best for you but DO IT almost everyday."
      ],
      "execution_count": 0,
      "outputs": []
    },
    {
      "metadata": {
        "id": "WiroBTtxxmwM",
        "colab_type": "code",
        "colab": {}
      },
      "cell_type": "code",
      "source": [
        "# Steps\n",
        "# Choose Topic\n",
        "# Start Stopwatch\n",
        "\n",
        "# Quickly Review/Reread what you've written or coded\n",
        "\n",
        "# Add New information like this \\/\\/\\/\\/\\/\\/\\/\\/\\/\n",
        "## 1. Write out Question or Desired Learning Action/Goal\n",
        "## Google-Fu\n",
        "## 2. Write what you learn\n",
        "## 3. Stop Timer, Record Minutes in df_main\n",
        "## 4. Save commit with relative message\n",
        "\n",
        "# \\/ Below is a Text and Cell Block 'Example Rep'"
      ],
      "execution_count": 0,
      "outputs": []
    },
    {
      "metadata": {
        "id": "cZ0G-UBHwzXE",
        "colab_type": "text"
      },
      "cell_type": "markdown",
      "source": [
        "# Always Run toy_df"
      ]
    },
    {
      "metadata": {
        "id": "XxZtXZjewYam",
        "colab_type": "code",
        "colab": {}
      },
      "cell_type": "code",
      "source": [
        "import numpy as np\n",
        "import pandas as pd\n",
        "import seaborn as sns\n",
        "import matplotlib.pyplot as plt\n",
        "\n",
        "# For full view of Data Frame\n",
        "pd.set_option('display.height', 100)\n",
        "pd.set_option('display.max_rows', 50)\n",
        "pd.set_option('display.max_columns', 50)\n",
        "pd.set_option('display.width', 100)\n",
        "\n",
        "# Entries are number of minutes studied\n",
        "toy_df = pd.DataFrame({\n",
        "                  \"Date\":                  [120118,120218,120318,120418,120518,120618],\n",
        "                  \"Python\":                [1,2,3,4,5,0],\n",
        "                  \"Pandas\":                [2,1,2,2,1,0],\n",
        "                  \"Numpy\":                 [2,2,3,4,5,0],\n",
        "                  \"Matplotlib\":            [4,3,1,2,1,0],\n",
        "                  \"Seaborn\":               [1,2,3,4,5,0],\n",
        "                  \"Math\":                  [4,3,1,2,1,0],\n",
        "                  \"Stats\":                 [1,2,3,4,5,0],\n",
        "                  \"Scipy\":                 [3,4,5,2,1,0],\n",
        "                  \"Scikit-learn\":          [5,4,3,2,1,0],\n",
        "                  \"IQ\":                    [5,2,1,1,1,0],\n",
        "                  \"SQL\":                   [1,2,3,4,5,0],\n",
        "                  \"DataStructures\":        [1,2,3,4,5,0],\n",
        "                  \"BigO\":                  [1,2,3,4,5,0],\n",
        "                  \"Regression\":            [3,4,4,1,1,0],\n",
        "                  \"(Un)SupervisedLearning\":[1,2,3,4,5,0],\n",
        "                  \"Clustering\":            [2,3,5,1,4,0],\n",
        "                  \"NN\":                    [3,2,1,4,1,0],\n",
        "                  \"RL\":                    [1,2,3,4,5,0],\n",
        "                  \"DL\":                    [1,2,3,4,1,0],\n",
        "                  \"CV\":                    [3,4,4,1,1,0],\n",
        "                  \"Some_Project\":          [5,2,1,1,1,0],\n",
        "                  \"Hadoop\":                [1,2,3,4,1,0],\n",
        "                  \"Algorithms\":            [1,2,3,4,5,0],\n",
        "                  \"DFExercises\":           [4,3,2,5,1,0],\n",
        "                  \"Solo1_Team2\":           [1,1,1,2,2,0],\n",
        "                  \"Review||Observed\":      [0,0,0,0,0,14]})\n",
        "toy_df = toy_df.set_index('Date')"
      ],
      "execution_count": 0,
      "outputs": []
    },
    {
      "metadata": {
        "id": "wlhGENK4w6pP",
        "colab_type": "text"
      },
      "cell_type": "markdown",
      "source": [
        "# Main Data Frame"
      ]
    },
    {
      "metadata": {
        "id": "zQ0rin4zw9IN",
        "colab_type": "code",
        "colab": {}
      },
      "cell_type": "code",
      "source": [
        "df_main = pd.DataFrame({\n",
        "                  \"Date\":                  [120318,120418,120518,120618,120718],\n",
        "                  \"Python\":                [0,3,0,7 ,4],\n",
        "                  \"Pandas\":                [0,2,0,0 ,6],\n",
        "                  \"Numpy\":                 [0,2,0,0 ,0],\n",
        "                  \"Matplotlib\":            [0,4,0,0 ,0],\n",
        "                  \"Seaborn\":               [0,1,0,0 ,0],\n",
        "                  \"Scipy\":                 [0,3,0,6 ,0],\n",
        "                  \"Math\":                  [0,1,0,0 ,0],\n",
        "                  \"Stats\":                 [9,9,0,20,0],\n",
        "                  \"Scikit-learn\":          [0,0,0,0 ,0],\n",
        "                  \"IQ\":                    [0,1,0,0 ,0],\n",
        "                  \"SQL\":                   [0,1,0,0 ,0],\n",
        "                  \"DataStructures\":        [0,2,0,0 ,0],\n",
        "                  \"BigO\":                  [0,2,0,0 ,0],\n",
        "                  \"Regression\":            [0,3,0,0 ,0],\n",
        "                  \"(Un)SupervisedLearning\":[0,1,0,0 ,0],\n",
        "                  \"Clustering\":            [0,2,0,0 ,0],\n",
        "                  \"NN\":                    [0,0,0,0 ,0],\n",
        "                  \"RL\":                    [0,0,0,0 ,0],\n",
        "                  \"DL\":                    [0,0,0,0 ,0],\n",
        "                  \"CV\":                    [0,0,0,0 ,0],\n",
        "                  \"Some_Project\":          [0,0,0,0 ,0],\n",
        "                  \"Hadoop\":                [0,0,0,0 ,0],\n",
        "                  \"Algorithms\":            [0,0,0,0 ,0],\n",
        "                  \"DFExercises\":           [0,0,0,0 ,0],\n",
        "                  \"Resume/Portfolio\":      [0,0,0,0 ,0],\n",
        "                  \"Solo1_Team2\":           [0,0,0,0 ,0],\n",
        "                  \"Review||Observed\":      [0,0,0,0 ,0]})\n",
        "df_main = df_main.set_index('Date')"
      ],
      "execution_count": 0,
      "outputs": []
    },
    {
      "metadata": {
        "id": "BQlFoWctzUnc",
        "colab_type": "text"
      },
      "cell_type": "markdown",
      "source": [
        "# Python"
      ]
    },
    {
      "metadata": {
        "id": "rx2MSCvTee11",
        "colab_type": "text"
      },
      "cell_type": "markdown",
      "source": [
        "##120418"
      ]
    },
    {
      "metadata": {
        "id": "BLBy9s0IzXJl",
        "colab_type": "code",
        "colab": {}
      },
      "cell_type": "code",
      "source": [
        "# What is Python?\n",
        "## An interpreted,\n",
        "    # object-oriented,\n",
        "    # high-level programming language with dynamic semantics.\n",
        "    \n",
        "# dynamic typing\n",
        "# dynamic binding"
      ],
      "execution_count": 0,
      "outputs": []
    },
    {
      "metadata": {
        "id": "jP_B7EhLdfAj",
        "colab_type": "text"
      },
      "cell_type": "markdown",
      "source": [
        "##120618"
      ]
    },
    {
      "metadata": {
        "id": "QyS_-TqEdiJ0",
        "colab_type": "code",
        "colab": {}
      },
      "cell_type": "code",
      "source": [
        "# Python Data Types\n",
        "## boolean\n",
        "## integer\n",
        "## long\n",
        "## float\n",
        "## string\n",
        "## list\n",
        "## object\n",
        "## None\n",
        "\n",
        "# Basics\n",
        "## print: Output strings, integers, or any other datatype.\n",
        "## input: Allow the user to input numbers or booleans.\n",
        "## raw_input: Allow the user to input strings.\n",
        "## import: Import a module into Python\n",
        "\n",
        "# Operators\n",
        "## Arithmatic: + - * / %\n",
        "## Comparison: == != < > <= >=\n",
        "## Logical: and or not\n",
        "## Exponentiation: **\n",
        "\n",
        "# Maths\n",
        "## Absolute Value:     a = abs(-7.5)\n",
        "## Arc sine:           x = asin(0.5) #returns in rads\n",
        "## Ceil (round up):    print(ceil(4.2))\n",
        "## Cosine:             a = cos(x) #x in rads\n",
        "## Degrees:            a = degrees(asin(0.5)) #a=30\n",
        "## Exp:                y = exp(x) #y=e^x\n",
        "## Floor (round down): a = floor(a+0.5)\n",
        "## Log:                x = log(y); #Natural Log\n",
        "##                      x = log(y,5); #Base-5 log\n",
        "## Log Base 10:        x = log10(y)\n",
        "## Max:                mx = max(1, 7, 3, 4) #7\n",
        "##                      mx = max(arr) #max value in array\n",
        "## Min:                mn = min(3, 0, -1, x) #min value\n",
        "## Powers:             x = pow(y,3) #x=y^3\n",
        "## Radians:            a = cos(radians(60)) #a=0.5\n",
        "## Random #: Random number functions require import random\n",
        "##                     random.seed() #Set the seed based on the system time.\n",
        "##                     x = random() #Random number in the range [0.0, 1.0)\n",
        "##                     y = randint(a,b) #Random integer in the range [a, b]\n",
        "## Round: print round(3.793,1; #3.8 - rounded to 1 decimal\n",
        "##                     a = round(3.793,0) #a=4.0\n",
        "## Sine:               a = sin(1.57) #in rads\n",
        "## Square Root:        x = sqrt(10) #3.16...\n",
        "## Tangent:            print tan(3.14)# #in rads"
      ],
      "execution_count": 0,
      "outputs": []
    },
    {
      "metadata": {
        "id": "1qRnixf8PL_e",
        "colab_type": "text"
      },
      "cell_type": "markdown",
      "source": [
        "##120718"
      ]
    },
    {
      "metadata": {
        "id": "JWx9zVFlPOFI",
        "colab_type": "code",
        "colab": {}
      },
      "cell_type": "code",
      "source": [
        "# Create a list\n",
        "## list = [2, 4, 7, 9]\n",
        "## list2 = [3, \"test\", True, 7.4]\n",
        "## a = range(5)\n",
        "#  a = [0,1,2,3,4]\n",
        "## a = range(10,0,-2)\n",
        "#  a = [10,8,6,4,2] \n",
        "\n",
        "# Append command can be used to append data to the end of the list:\n",
        "## a=[]\n",
        "#  a.append(\"test\")\n",
        "#  a.append(5)\n",
        "#  print a --> ['test', 5]"
      ],
      "execution_count": 0,
      "outputs": []
    },
    {
      "metadata": {
        "id": "tMd2XolfzYvM",
        "colab_type": "text"
      },
      "cell_type": "markdown",
      "source": [
        "# Pandas"
      ]
    },
    {
      "metadata": {
        "id": "YCtoO0hpfsAG",
        "colab_type": "text"
      },
      "cell_type": "markdown",
      "source": [
        "##120418"
      ]
    },
    {
      "metadata": {
        "id": "1lnaRxr-zaPu",
        "colab_type": "code",
        "colab": {}
      },
      "cell_type": "code",
      "source": [
        "# What is Pandas?\n",
        "## A Python software library for data manipulation and analysis.\n",
        "import pandas as pd"
      ],
      "execution_count": 0,
      "outputs": []
    },
    {
      "metadata": {
        "id": "HzEmnSTQ1MiU",
        "colab_type": "text"
      },
      "cell_type": "markdown",
      "source": [
        "##120618"
      ]
    },
    {
      "metadata": {
        "id": "obATY7gw1QXK",
        "colab_type": "code",
        "colab": {
          "base_uri": "https://localhost:8080/",
          "height": 49
        },
        "outputId": "829253f1-1ccd-441b-ef63-4988973cc467"
      },
      "cell_type": "code",
      "source": [
        "# Data Frames\n",
        "df1 = pd.DataFrame({\"a\":[4,5,6],\n",
        "                    \"b\":[7,8,9],\n",
        "                    \"c\":[10,11,12]},\n",
        "                    columns=['milk', 'duds', 'yum'])\n",
        "\n",
        "df2 = pd.DataFrame([[4,7,10],\n",
        "                    [5,8,11],\n",
        "                    ])\n",
        "df1"
      ],
      "execution_count": 28,
      "outputs": [
        {
          "output_type": "execute_result",
          "data": {
            "text/html": [
              "<div>\n",
              "<style scoped>\n",
              "    .dataframe tbody tr th:only-of-type {\n",
              "        vertical-align: middle;\n",
              "    }\n",
              "\n",
              "    .dataframe tbody tr th {\n",
              "        vertical-align: top;\n",
              "    }\n",
              "\n",
              "    .dataframe thead th {\n",
              "        text-align: right;\n",
              "    }\n",
              "</style>\n",
              "<table border=\"1\" class=\"dataframe\">\n",
              "  <thead>\n",
              "    <tr style=\"text-align: right;\">\n",
              "      <th></th>\n",
              "      <th>milk</th>\n",
              "      <th>duds</th>\n",
              "      <th>yum</th>\n",
              "    </tr>\n",
              "  </thead>\n",
              "  <tbody>\n",
              "  </tbody>\n",
              "</table>\n",
              "</div>"
            ],
            "text/plain": [
              "Empty DataFrame\n",
              "Columns: [milk, duds, yum]\n",
              "Index: []"
            ]
          },
          "metadata": {
            "tags": []
          },
          "execution_count": 28
        }
      ]
    },
    {
      "metadata": {
        "id": "xOvoUazRROzJ",
        "colab_type": "text"
      },
      "cell_type": "markdown",
      "source": [
        "##120718"
      ]
    },
    {
      "metadata": {
        "id": "krS3f4lGRQnN",
        "colab_type": "code",
        "colab": {
          "base_uri": "https://localhost:8080/",
          "height": 235
        },
        "outputId": "b117d1b6-3b7e-454c-fba1-207b962dd38f"
      },
      "cell_type": "code",
      "source": [
        "# Create a Series\n",
        "s = pd.Series([1,3,5,np.nan,6,8])\n",
        "\n",
        "# Create a DF by passing a np array, w/ a datetime index and labeled columns\n",
        "dates = pd.date_range('20130101', periods=6)\n",
        "df = pd.DataFrame(np.random.randn(6,4), index=dates, columns=list('ABCD'))\n",
        "\n",
        "df"
      ],
      "execution_count": 32,
      "outputs": [
        {
          "output_type": "execute_result",
          "data": {
            "text/html": [
              "<div>\n",
              "<style scoped>\n",
              "    .dataframe tbody tr th:only-of-type {\n",
              "        vertical-align: middle;\n",
              "    }\n",
              "\n",
              "    .dataframe tbody tr th {\n",
              "        vertical-align: top;\n",
              "    }\n",
              "\n",
              "    .dataframe thead th {\n",
              "        text-align: right;\n",
              "    }\n",
              "</style>\n",
              "<table border=\"1\" class=\"dataframe\">\n",
              "  <thead>\n",
              "    <tr style=\"text-align: right;\">\n",
              "      <th></th>\n",
              "      <th>A</th>\n",
              "      <th>B</th>\n",
              "      <th>C</th>\n",
              "      <th>D</th>\n",
              "    </tr>\n",
              "  </thead>\n",
              "  <tbody>\n",
              "    <tr>\n",
              "      <th>2013-01-01</th>\n",
              "      <td>-0.350684</td>\n",
              "      <td>-1.209771</td>\n",
              "      <td>-0.276276</td>\n",
              "      <td>-1.579857</td>\n",
              "    </tr>\n",
              "    <tr>\n",
              "      <th>2013-01-02</th>\n",
              "      <td>0.807874</td>\n",
              "      <td>1.162445</td>\n",
              "      <td>-0.751708</td>\n",
              "      <td>-0.108837</td>\n",
              "    </tr>\n",
              "    <tr>\n",
              "      <th>2013-01-03</th>\n",
              "      <td>1.433172</td>\n",
              "      <td>-0.363992</td>\n",
              "      <td>0.956595</td>\n",
              "      <td>0.480476</td>\n",
              "    </tr>\n",
              "    <tr>\n",
              "      <th>2013-01-04</th>\n",
              "      <td>-2.114295</td>\n",
              "      <td>1.114118</td>\n",
              "      <td>0.191951</td>\n",
              "      <td>0.070011</td>\n",
              "    </tr>\n",
              "    <tr>\n",
              "      <th>2013-01-05</th>\n",
              "      <td>-2.612082</td>\n",
              "      <td>-0.473888</td>\n",
              "      <td>-0.070973</td>\n",
              "      <td>-0.200477</td>\n",
              "    </tr>\n",
              "    <tr>\n",
              "      <th>2013-01-06</th>\n",
              "      <td>0.327647</td>\n",
              "      <td>1.329049</td>\n",
              "      <td>0.575960</td>\n",
              "      <td>0.477360</td>\n",
              "    </tr>\n",
              "  </tbody>\n",
              "</table>\n",
              "</div>"
            ],
            "text/plain": [
              "                   A         B         C         D\n",
              "2013-01-01 -0.350684 -1.209771 -0.276276 -1.579857\n",
              "2013-01-02  0.807874  1.162445 -0.751708 -0.108837\n",
              "2013-01-03  1.433172 -0.363992  0.956595  0.480476\n",
              "2013-01-04 -2.114295  1.114118  0.191951  0.070011\n",
              "2013-01-05 -2.612082 -0.473888 -0.070973 -0.200477\n",
              "2013-01-06  0.327647  1.329049  0.575960  0.477360"
            ]
          },
          "metadata": {
            "tags": []
          },
          "execution_count": 32
        }
      ]
    },
    {
      "metadata": {
        "id": "M-ubCgbZzats",
        "colab_type": "text"
      },
      "cell_type": "markdown",
      "source": [
        "# Numpy"
      ]
    },
    {
      "metadata": {
        "id": "DF8XfE_ogZKq",
        "colab_type": "text"
      },
      "cell_type": "markdown",
      "source": [
        "##120418"
      ]
    },
    {
      "metadata": {
        "id": "CvA8pYORzdgo",
        "colab_type": "code",
        "colab": {}
      },
      "cell_type": "code",
      "source": [
        "# What is Numpy\n",
        "## A Python extension module\n",
        "## NumPy Provides fast and efficient operations on arrays of homogeneous data.\n",
        "## NumPy extends python into a high-level language for manipulating numerical data\n",
        "import numpy as np"
      ],
      "execution_count": 0,
      "outputs": []
    },
    {
      "metadata": {
        "id": "PreLp84WzeC7",
        "colab_type": "text"
      },
      "cell_type": "markdown",
      "source": [
        "# Matplotlib"
      ]
    },
    {
      "metadata": {
        "id": "6ctQAYszhHl8",
        "colab_type": "text"
      },
      "cell_type": "markdown",
      "source": [
        "##120418"
      ]
    },
    {
      "metadata": {
        "id": "_nQNk2TTzgZY",
        "colab_type": "code",
        "colab": {}
      },
      "cell_type": "code",
      "source": [
        "# What is Matplotlib?\n",
        "## A Plotting library for the Python programming language and Numpy (its numerical mathematics extension)\n",
        "## Provides an object-oriented API for embedding plots into applications using general-purpose GUI toolkits\n",
        "import matplotlib.pyplot as plt"
      ],
      "execution_count": 0,
      "outputs": []
    },
    {
      "metadata": {
        "id": "K0iYTwVYzi5z",
        "colab_type": "text"
      },
      "cell_type": "markdown",
      "source": [
        "# Seaborn"
      ]
    },
    {
      "metadata": {
        "id": "5b7BkNCoh6qP",
        "colab_type": "text"
      },
      "cell_type": "markdown",
      "source": [
        "##120418"
      ]
    },
    {
      "metadata": {
        "id": "zgtgSOc2zjf0",
        "colab_type": "code",
        "colab": {}
      },
      "cell_type": "code",
      "source": [
        "# What is Seaborn?\n",
        "## Statistical data visualization\n",
        "## Seaborn is a Python data visualization library based on matplotlib\n",
        "## Provides a high-level interface for drawing attractive and informative statistical graphics\n",
        "import seaborn as sns"
      ],
      "execution_count": 0,
      "outputs": []
    },
    {
      "metadata": {
        "id": "XZ7Wzx_ET_js",
        "colab_type": "text"
      },
      "cell_type": "markdown",
      "source": [
        "# Scipy"
      ]
    },
    {
      "metadata": {
        "id": "0Cm_a-m9il4E",
        "colab_type": "text"
      },
      "cell_type": "markdown",
      "source": [
        "##120418"
      ]
    },
    {
      "metadata": {
        "id": "Uv1HCm09UBst",
        "colab_type": "code",
        "colab": {}
      },
      "cell_type": "code",
      "source": [
        "# What is Scipy?\n",
        "## Python library used for scientific computing and technical computing.\n",
        "## SciPy is a collection of mathematical algorithms and convenience functions built on the Numpy extension of Python.\n",
        "from scipy import stats\n",
        "# https://www.scipy.org/getting-started.html"
      ],
      "execution_count": 0,
      "outputs": []
    },
    {
      "metadata": {
        "id": "uIpz-QkKnFoh",
        "colab_type": "text"
      },
      "cell_type": "markdown",
      "source": [
        "#120618"
      ]
    },
    {
      "metadata": {
        "id": "qdIJXK7nnG3f",
        "colab_type": "code",
        "colab": {}
      },
      "cell_type": "code",
      "source": [
        "# What is Scipy for?\n",
        "# Has routines for computing integrals numerically,\n",
        "#                                      solving differential equations,\n",
        "#                                      optimization,\n",
        "#                                      sparse matrices.\n",
        "\n",
        "# Scipy sub-packages need to be imported separately example:\n",
        "from scipy import linalg, optimize\n",
        "\n",
        "# Linear Algebra (scipy.linalg)\n",
        "## All of these linear algebra routines expect an object that can be converted into a 2-dimensional array\n",
        "## The output of these routines is also a two-dimensional array.\n",
        "A = np.array([[1,2],[3,4]])\n",
        "\n",
        "linalg.inv(A)"
      ],
      "execution_count": 0,
      "outputs": []
    },
    {
      "metadata": {
        "id": "peYTgabq1KoD",
        "colab_type": "text"
      },
      "cell_type": "markdown",
      "source": [
        "# Scikit-Learn"
      ]
    },
    {
      "metadata": {
        "id": "pEqiFDrq2BT1",
        "colab_type": "code",
        "colab": {}
      },
      "cell_type": "code",
      "source": [
        ""
      ],
      "execution_count": 0,
      "outputs": []
    },
    {
      "metadata": {
        "id": "GG9jrQhizksG",
        "colab_type": "text"
      },
      "cell_type": "markdown",
      "source": [
        "# Math"
      ]
    },
    {
      "metadata": {
        "id": "A-PonkQEoYZH",
        "colab_type": "text"
      },
      "cell_type": "markdown",
      "source": [
        "##120418"
      ]
    },
    {
      "metadata": {
        "id": "5mKFO1Q7zqek",
        "colab_type": "code",
        "colab": {}
      },
      "cell_type": "code",
      "source": [
        "# Math disciplines that make up Machine Learning.\n",
        "## Linear Algebra\n",
        "## Probability Theory\n",
        "## Calculus\n",
        "## Statistics"
      ],
      "execution_count": 0,
      "outputs": []
    },
    {
      "metadata": {
        "id": "F0_vApL6zsyZ",
        "colab_type": "text"
      },
      "cell_type": "markdown",
      "source": [
        "# Statistics "
      ]
    },
    {
      "metadata": {
        "id": "faEFYgXsdxZ0",
        "colab_type": "text"
      },
      "cell_type": "markdown",
      "source": [
        "##120318"
      ]
    },
    {
      "metadata": {
        "id": "EpdqDpmPzw1G",
        "colab_type": "code",
        "colab": {}
      },
      "cell_type": "code",
      "source": [
        "# What is Frequency Perspective\n",
        "## An interpretation of probability\n",
        "## It defines an event's probability as the limit of its relative frequency in a large number of trials\n",
        "\n",
        "# What is P-Value?\n",
        "## Probability Value\n",
        "## A calculation that we make during hypothesis testing to determine if we reject the null hypothesis or fail to reject it\n",
        "\n",
        "# What is Ttest\n",
        "## A type of inferential statistic which is used to determine if there is a significant difference between the means of two groups which may be related\n",
        "\n",
        "# What is Null Hypothesis?\n",
        "## Default position that there is no relationship between two measured phenomena\n",
        "## It proposes no statistical significance exists in a set of given observations\n",
        "## The null hypothesis attempts to show no variation exists between variables OR that a single variable is no different than its mean.\n",
        "## NH is presumed to be true until statistical evidence nullifies it for an alternative hypothesis.\n",
        "## The null hypothesis is that the rows/cols are independent -> low chi square\n",
        "\n",
        "# What is Degree of Freedom?\n",
        "## Freedom to Vary"
      ],
      "execution_count": 0,
      "outputs": []
    },
    {
      "metadata": {
        "id": "E6ahQljYK-Og",
        "colab_type": "text"
      },
      "cell_type": "markdown",
      "source": [
        "##120418"
      ]
    },
    {
      "metadata": {
        "id": "cl_sva1VKMD5",
        "colab_type": "code",
        "colab": {}
      },
      "cell_type": "code",
      "source": [
        "# What is a Probability distribution?\n",
        "## Mathematical function that provides the probabilities of occurrence of different possible outcomes in an experiment.\n",
        "\n",
        "# List of Probability Distributions\n",
        "## Bernoulli,\n",
        "## Beta,\n",
        "## Binomial,\n",
        "## Chi-Squared,\n",
        "## Exponential,\n",
        "## Gamma,\n",
        "## Geometric,\n",
        "## Hypergeometric,\n",
        "## Log Normal,\n",
        "## Negative Binomial,\n",
        "## Normal (Gaussian),\n",
        "## Poisson\n",
        "## Student's t,\n",
        "## Uniform,\n",
        "## Weibull\n",
        "\n",
        "# Chi-Squared Distribution\n",
        "## Distribution of a sum of the squares of Independent Standard Normal Random Variables\n",
        "\n",
        "# Binomial(n,p)\n",
        "## Is a Discreet Probability Distribution. n=trials, p=probability of success\n",
        "\n",
        "# What is Skewness?\n",
        "## Asymmetry in a statistical distribution, in which the curve appears distorted or skewed either to the left or to the right.\n",
        "## Skewness can be quantified to define the extent to which a distribution differs from a normal distribution.\n",
        "\n",
        "# Why Chi-Square Test\n",
        "## for Independence.\n",
        "## It is used to determine whether there is a significant association between the two variables.\n",
        "\n",
        "## Chi square can take any crosstab/table and test the independence of rows/cols\n",
        "\n",
        "## The alternative is that there is a dependence -> high chi square\n",
        "## Be aware! Chi square does *not* tell you direction/causation"
      ],
      "execution_count": 0,
      "outputs": []
    },
    {
      "metadata": {
        "id": "ndoWO-hJZ_w_",
        "colab_type": "code",
        "colab": {}
      },
      "cell_type": "code",
      "source": [
        "from scipy import stats\n",
        "# Binomial\n",
        "b1 = stats.binom(n=100, p=0.6)\n",
        "\n",
        "print(b1.mean())\n",
        "print(b1.median())"
      ],
      "execution_count": 0,
      "outputs": []
    },
    {
      "metadata": {
        "id": "HKgpYs-7aIYk",
        "colab_type": "code",
        "colab": {}
      },
      "cell_type": "code",
      "source": [
        "import random\n",
        "random.seed(100) # Reproducibility! Next line should give 2386\n",
        "random.randint(0, 10000)\n",
        "\n",
        "chi2 = stats.chi2(5)\n",
        "\n",
        "print(chi2.mean())\n",
        "print(chi2.median())"
      ],
      "execution_count": 0,
      "outputs": []
    },
    {
      "metadata": {
        "id": "ZFhiZlekSsQG",
        "colab_type": "text"
      },
      "cell_type": "markdown",
      "source": [
        "##120518"
      ]
    },
    {
      "metadata": {
        "id": "G-RJjw9LS3ML",
        "colab_type": "code",
        "colab": {}
      },
      "cell_type": "code",
      "source": [
        "# What is a Quantile Function?\n",
        "## Specifies the value of the random variable such that the probability of the variable\n",
        "## being less than or equal to that value equals the given probability\n",
        "\n",
        "# What is a Conditional Probability?\n",
        "## A measure of the probability of an event given that another event has occurred\n",
        "\n",
        "# What is Bayes Theorum?\n",
        "## A mathematical formula for determining conditional probability."
      ],
      "execution_count": 0,
      "outputs": []
    },
    {
      "metadata": {
        "id": "T3qz0xPwpn1N",
        "colab_type": "text"
      },
      "cell_type": "markdown",
      "source": [
        "#1201618"
      ]
    },
    {
      "metadata": {
        "id": "p0DVc-V8ppEN",
        "colab_type": "code",
        "colab": {}
      },
      "cell_type": "code",
      "source": [
        "# Statistical Inference\n",
        "## Process of using data analysis to deduce properties of an underlying probability distribution. \n",
        "\n",
        "# Sampling\n",
        "## Selection of a statistical sample, of individuals from within a statistical population\n",
        "## to estimate characteristics of the whole population\n",
        "\n",
        "# Confidence Intervals\n",
        "## Gives an estimated range of values which is likely to include an unknown population parameter\n",
        "\n",
        "# Hypothesis Testing\n",
        "## Hypothesis that is testable on the basis of observing a process\n",
        "## that is modeled via a set of random variables\n",
        "\n",
        "# Null Hypothesis\n",
        "## The hypothesis that there is no significant difference between specified populations,\n",
        "## any observed difference being due to sampling or experimental error.\n",
        "\n",
        "# Z score\n",
        "## Indicates how many standard deviations an element is from the mean\n",
        "## z = (X - μ) / σ where z is the z-score,\n",
        "#                X is the value of the element,\n",
        "#                μ is the population mean,\n",
        "#                σ is the standard deviation.\n",
        "\n",
        "# T-statistics\n",
        "## Ratio of the departure of the estimated value of a parameter from its hypothesized value to its standard error.\n",
        "\n",
        "# T score\n",
        "## One form of a standardized test statistic\n",
        "## Standardized scores on each dimension for each type\n",
        "\n",
        "# T value\n",
        "## A test statistic\n",
        "## The relative error difference in contrast to the null hypothesis\n",
        "\n",
        "# P value\n",
        "## A significance level\n",
        "## Statistical significance of a measurement in how correct a statistical evidence part, is\n",
        "\n",
        "# Quantile Function\n",
        "## Specifies the value of the random variable such that the probability of the variable\n",
        "## being less than or equal to that value equals the given probability.\n",
        "\n",
        "# Distributions\n",
        "### [Binomial, Chi-Squared, Poisson]\n",
        "## Binomial - Frequency Distribution of the possible number of successful outcomes in a\n",
        "#            given number of trials in each of which there is the same probability of success.\n",
        "## Chi-Squared - Distribution of the sum of squared standard normal deviates.\n",
        "## Poisson - useful for characterizing events with very low probabilities of occurrence\n",
        "#           within some definite time or space. \n",
        "\n",
        "# Skewness\n",
        "## asymmetry in a statistical distribution, in which the curve appears distorted\n",
        "#  or skewed either to the left or to the right"
      ],
      "execution_count": 0,
      "outputs": []
    },
    {
      "metadata": {
        "id": "DmC2ibejzyB9",
        "colab_type": "text"
      },
      "cell_type": "markdown",
      "source": [
        "# IQ"
      ]
    },
    {
      "metadata": {
        "id": "FKM5rJhrphu-",
        "colab_type": "text"
      },
      "cell_type": "markdown",
      "source": [
        "##120418"
      ]
    },
    {
      "metadata": {
        "id": "lCx7IdhozzL2",
        "colab_type": "code",
        "colab": {}
      },
      "cell_type": "code",
      "source": [
        "# What is the difference between supervised and unsupervised machine learning?\n",
        "## Supervised Learning is inferring a function from labeled training data\n",
        "## Unsupervised Learning is used to draw inferences from datasets consisting of input data without labeled responses"
      ],
      "execution_count": 0,
      "outputs": []
    },
    {
      "metadata": {
        "id": "1oq2W3k_z0rr",
        "colab_type": "text"
      },
      "cell_type": "markdown",
      "source": [
        "# SQL"
      ]
    },
    {
      "metadata": {
        "id": "8HsXBYGOqaUx",
        "colab_type": "text"
      },
      "cell_type": "markdown",
      "source": [
        "##120418"
      ]
    },
    {
      "metadata": {
        "id": "wvEbWmQwz2WA",
        "colab_type": "code",
        "colab": {}
      },
      "cell_type": "code",
      "source": [
        "# What is SQL?\n",
        "## domain-specific language used in programming and designed for managing data held in a relational database management system\n",
        "## OR for stream processing in a relational data stream management system"
      ],
      "execution_count": 0,
      "outputs": []
    },
    {
      "metadata": {
        "id": "Gbgr8xsiz3Kz",
        "colab_type": "text"
      },
      "cell_type": "markdown",
      "source": [
        "# Data Structures"
      ]
    },
    {
      "metadata": {
        "id": "lmcJtmSSq4cY",
        "colab_type": "text"
      },
      "cell_type": "markdown",
      "source": [
        "##120418"
      ]
    },
    {
      "metadata": {
        "id": "uLH-vlXZz41Q",
        "colab_type": "code",
        "colab": {}
      },
      "cell_type": "code",
      "source": [
        "# What is a Data Structure?\n",
        "## A data organization, management and storage format that enables efficient access and modification\n",
        "## A collection of data values, the relationships among them, and the functions or operations that can be applied to the data.\n",
        "\n",
        "# Data Structures List\n",
        "# Array,\n",
        "# Linked Lists,\n",
        "# Stack,\n",
        "# Queues,\n",
        "# Trees,\n",
        "# Graphs,\n",
        "# Sets,\n",
        "# Hash Tables"
      ],
      "execution_count": 0,
      "outputs": []
    },
    {
      "metadata": {
        "id": "o3h18znmz5J0",
        "colab_type": "text"
      },
      "cell_type": "markdown",
      "source": [
        "# Big O"
      ]
    },
    {
      "metadata": {
        "id": "02WOhyxvrpk4",
        "colab_type": "text"
      },
      "cell_type": "markdown",
      "source": [
        "##120418"
      ]
    },
    {
      "metadata": {
        "id": "XokJpu8dz6i0",
        "colab_type": "code",
        "colab": {}
      },
      "cell_type": "code",
      "source": [
        "# What is Big O Notation?\n",
        "## Big O notation is a mathematical notation that describes the limiting behavior of a function.\n",
        "## Big O notation is what describes the performance or time complexity of an algorithm."
      ],
      "execution_count": 0,
      "outputs": []
    },
    {
      "metadata": {
        "id": "I6a55v7jz68n",
        "colab_type": "text"
      },
      "cell_type": "markdown",
      "source": [
        "# Regression"
      ]
    },
    {
      "metadata": {
        "id": "r8R8PyVUsEc8",
        "colab_type": "text"
      },
      "cell_type": "markdown",
      "source": [
        "##120418"
      ]
    },
    {
      "metadata": {
        "id": "P7Ox-LBsz7-q",
        "colab_type": "code",
        "colab": {}
      },
      "cell_type": "code",
      "source": [
        "# What is Regression in Machine Learning?\n",
        "## Used for prediction and forecasting\n",
        "## Basically a statistical approach to find the relationship between variables\n",
        "## Used to predict the outcome of an event based on the relationship between variables obtained from the data-set\n",
        "\n",
        "# List of Known Regressions\n",
        "## Linear Regression\n",
        "## Logistic Regression\n",
        "## Polynomial Regression\n",
        "## Stepwise Regression\n",
        "## Ridge Regression\n",
        "## Lasso Regression\n",
        "## ElasticNet Regression"
      ],
      "execution_count": 0,
      "outputs": []
    },
    {
      "metadata": {
        "id": "L-aY1Luxz8-O",
        "colab_type": "text"
      },
      "cell_type": "markdown",
      "source": [
        "# (Un)Supervised Learning"
      ]
    },
    {
      "metadata": {
        "id": "LTe6pa5ttHBo",
        "colab_type": "text"
      },
      "cell_type": "markdown",
      "source": [
        "##120418"
      ]
    },
    {
      "metadata": {
        "id": "6wDNZ5jHz--w",
        "colab_type": "code",
        "colab": {}
      },
      "cell_type": "code",
      "source": [
        "# What is Supervised and Unsupervised Learning?\n",
        "## Supervised Learning is inferring a function from labeled training data\n",
        "## Unsupervised Learning is used to draw inferences from datasets consisting of input data without labeled responses"
      ],
      "execution_count": 0,
      "outputs": []
    },
    {
      "metadata": {
        "id": "pXMahJmZz_Y9",
        "colab_type": "text"
      },
      "cell_type": "markdown",
      "source": [
        "# Clustering"
      ]
    },
    {
      "metadata": {
        "id": "c-3pZ0SlsOdm",
        "colab_type": "text"
      },
      "cell_type": "markdown",
      "source": [
        "##120418"
      ]
    },
    {
      "metadata": {
        "id": "CbcwpopB0CLE",
        "colab_type": "code",
        "colab": {}
      },
      "cell_type": "code",
      "source": [
        "# What is Clustering in Machine Learning?\n",
        "## Clustering is a method of unsupervised learning\n",
        "## A technique for statistical data analysis used in many fields.\n",
        "\n",
        "## The assignment of a set of observations into subsets (clusters) so that observations in the same cluster are similar"
      ],
      "execution_count": 0,
      "outputs": []
    },
    {
      "metadata": {
        "id": "2_WYlXwj0Dcm",
        "colab_type": "text"
      },
      "cell_type": "markdown",
      "source": [
        "# Neural Network"
      ]
    },
    {
      "metadata": {
        "id": "MmTmBBsl1gkY",
        "colab_type": "code",
        "colab": {}
      },
      "cell_type": "code",
      "source": [
        ""
      ],
      "execution_count": 0,
      "outputs": []
    },
    {
      "metadata": {
        "id": "gAHl5MCx0FyZ",
        "colab_type": "text"
      },
      "cell_type": "markdown",
      "source": [
        "# Reinforcement Learning"
      ]
    },
    {
      "metadata": {
        "id": "i_n7Z63x0D5p",
        "colab_type": "code",
        "colab": {}
      },
      "cell_type": "code",
      "source": [
        ""
      ],
      "execution_count": 0,
      "outputs": []
    },
    {
      "metadata": {
        "id": "dSjE49pf0HTH",
        "colab_type": "text"
      },
      "cell_type": "markdown",
      "source": [
        "# Deep Learning"
      ]
    },
    {
      "metadata": {
        "id": "lCVaRaGK0II_",
        "colab_type": "code",
        "colab": {}
      },
      "cell_type": "code",
      "source": [
        ""
      ],
      "execution_count": 0,
      "outputs": []
    },
    {
      "metadata": {
        "id": "KY83ll2j0JN5",
        "colab_type": "text"
      },
      "cell_type": "markdown",
      "source": [
        "# Computer Vision"
      ]
    },
    {
      "metadata": {
        "id": "6h9hs64D0JuZ",
        "colab_type": "code",
        "colab": {}
      },
      "cell_type": "code",
      "source": [
        ""
      ],
      "execution_count": 0,
      "outputs": []
    },
    {
      "metadata": {
        "id": "wD1KOr1h0KjT",
        "colab_type": "text"
      },
      "cell_type": "markdown",
      "source": [
        "# Hadoop"
      ]
    },
    {
      "metadata": {
        "id": "9Nhg2mAx0LFP",
        "colab_type": "code",
        "colab": {}
      },
      "cell_type": "code",
      "source": [
        ""
      ],
      "execution_count": 0,
      "outputs": []
    },
    {
      "metadata": {
        "id": "TlXR6mRD0LdW",
        "colab_type": "text"
      },
      "cell_type": "markdown",
      "source": [
        "# Algorithms"
      ]
    },
    {
      "metadata": {
        "id": "VHhFML130NPx",
        "colab_type": "code",
        "colab": {}
      },
      "cell_type": "code",
      "source": [
        ""
      ],
      "execution_count": 0,
      "outputs": []
    },
    {
      "metadata": {
        "id": "bNVtnM122x4c",
        "colab_type": "text"
      },
      "cell_type": "markdown",
      "source": [
        "# DFExercises"
      ]
    },
    {
      "metadata": {
        "id": "PEuBJ26z216Y",
        "colab_type": "code",
        "colab": {}
      },
      "cell_type": "code",
      "source": [
        ""
      ],
      "execution_count": 0,
      "outputs": []
    },
    {
      "metadata": {
        "id": "kOgbLvJf2vN6",
        "colab_type": "text"
      },
      "cell_type": "markdown",
      "source": [
        "# Resume/Portfolio"
      ]
    },
    {
      "metadata": {
        "id": "d1Lagr-52wyD",
        "colab_type": "code",
        "colab": {}
      },
      "cell_type": "code",
      "source": [
        ""
      ],
      "execution_count": 0,
      "outputs": []
    },
    {
      "metadata": {
        "id": "iQyXU4Wc0OfB",
        "colab_type": "text"
      },
      "cell_type": "markdown",
      "source": [
        "# Project"
      ]
    },
    {
      "metadata": {
        "id": "SPneR3060Pu6",
        "colab_type": "code",
        "colab": {}
      },
      "cell_type": "code",
      "source": [
        ""
      ],
      "execution_count": 0,
      "outputs": []
    }
  ]
}