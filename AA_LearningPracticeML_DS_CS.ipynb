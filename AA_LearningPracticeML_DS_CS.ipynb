{
  "nbformat": 4,
  "nbformat_minor": 0,
  "metadata": {
    "colab": {
      "name": "AA-LearningPracticeML_DS_CS.ipynb",
      "version": "0.3.2",
      "provenance": [],
      "include_colab_link": true
    },
    "kernelspec": {
      "name": "python3",
      "display_name": "Python 3"
    }
  },
  "cells": [
    {
      "cell_type": "markdown",
      "metadata": {
        "id": "view-in-github",
        "colab_type": "text"
      },
      "source": [
        "<a href=\"https://colab.research.google.com/github/waterFlowin/AA-LearningPracticeML_DS_CS/blob/master/AA_LearningPracticeML_DS_CS.ipynb\" target=\"_parent\"><img src=\"https://colab.research.google.com/assets/colab-badge.svg\" alt=\"Open In Colab\"/></a>"
      ]
    },
    {
      "metadata": {
        "id": "WiroBTtxxmwM",
        "colab_type": "code",
        "colab": {}
      },
      "cell_type": "code",
      "source": [
        "# Steps\n",
        "## 1. Write out Question or Desired Learning Action/Goal\n",
        "## 2. Start Timer\n",
        "## 3. Write what you learn\n",
        "## 4. Stop Timer, Record Minutes in df_main\n",
        "## 5. Save commit with relative message\n",
        "\n",
        "# \\/ Below is a Cell Block 'Repetition Example'"
      ],
      "execution_count": 0,
      "outputs": []
    },
    {
      "metadata": {
        "id": "sByxIc_xyOF7",
        "colab_type": "code",
        "colab": {}
      },
      "cell_type": "code",
      "source": [
        "# 120118\n",
        "# Question to be answered here\n",
        "## Answer\n",
        "## Answer\n",
        "## ..."
      ],
      "execution_count": 0,
      "outputs": []
    },
    {
      "metadata": {
        "id": "cZ0G-UBHwzXE",
        "colab_type": "text"
      },
      "cell_type": "markdown",
      "source": [
        "# Always Run"
      ]
    },
    {
      "metadata": {
        "id": "XxZtXZjewYam",
        "colab_type": "code",
        "colab": {}
      },
      "cell_type": "code",
      "source": [
        "import numpy as np\n",
        "import pandas as pd\n",
        "import seaborn as sns\n",
        "import matplotlib.pyplot as plt\n",
        "\n",
        "# For full view of Data Frame\n",
        "pd.set_option('display.height', 100)\n",
        "pd.set_option('display.max_rows', 50)\n",
        "pd.set_option('display.max_columns', 50)\n",
        "pd.set_option('display.width', 100)\n",
        "\n",
        "# Entries are number of minutes studied\n",
        "toy_df = pd.DataFrame({\n",
        "                  \"Date\":                  [120118,120218,120318,120418,120518,120618],\n",
        "                  \"Python\":                [1,2,3,4,5,0],\n",
        "                  \"Pandas\":                [2,1,2,2,1,0],\n",
        "                  \"Numpy\":                 [2,2,3,4,5,0],\n",
        "                  \"Matplotlib\":            [4,3,1,2,1,0],\n",
        "                  \"Seaborn\":               [1,2,3,4,5,0],\n",
        "                  \"Math\":                  [4,3,1,2,1,0],\n",
        "                  \"Stats\":                 [1,2,3,4,5,0],\n",
        "                  \"IQ\":                    [5,2,1,1,1,0],\n",
        "                  \"SQL\":                   [1,2,3,4,5,0],\n",
        "                  \"DataStructures\":        [1,2,3,4,5,0],\n",
        "                  \"BigO\":                  [1,2,3,4,5,0],\n",
        "                  \"Regression\":            [3,4,4,1,1,0],\n",
        "                  \"(Un)SupervisedLearning\":[1,2,3,4,5,0],\n",
        "                  \"Clustering\":            [2,3,5,1,4,0],\n",
        "                  \"NN\":                    [3,2,1,4,1,0],\n",
        "                  \"RL\":                    [1,2,3,4,5,0],\n",
        "                  \"DL\":                    [1,2,3,4,1,0],\n",
        "                  \"CV\":                    [3,4,4,1,1,0],\n",
        "                  \"Some_Project\":          [5,2,1,1,1,0],\n",
        "                  \"Hadoop\":                [1,2,3,4,1,0],\n",
        "                  \"Algorithms\":            [1,2,3,4,5,0],\n",
        "                  \"Solo1_Team2\":           [1,1,1,2,2,0],\n",
        "                  \"Review\":                [0,0,0,0,0,14]})\n",
        "toy_df = toy_df.set_index('Date')"
      ],
      "execution_count": 0,
      "outputs": []
    },
    {
      "metadata": {
        "id": "wlhGENK4w6pP",
        "colab_type": "text"
      },
      "cell_type": "markdown",
      "source": [
        "# Main Data Frame"
      ]
    },
    {
      "metadata": {
        "id": "zQ0rin4zw9IN",
        "colab_type": "code",
        "colab": {}
      },
      "cell_type": "code",
      "source": [
        "df_main = pd.DataFrame({\n",
        "                  \"Date\":                  [],\n",
        "                  \"Python\":                [],\n",
        "                  \"Pandas\":                [],\n",
        "                  \"Numpy\":                 [],\n",
        "                  \"Matplotlib\":            [],\n",
        "                  \"Seaborn\":               [],\n",
        "                  \"Math\":                  [],\n",
        "                  \"Stats\":                 [],\n",
        "                  \"IQ\":                    [],\n",
        "                  \"SQL\":                   [],\n",
        "                  \"DataStructures\":        [],\n",
        "                  \"BigO\":                  [],\n",
        "                  \"Regression\":            [],\n",
        "                  \"(Un)SupervisedLearning\":[],\n",
        "                  \"Clustering\":            [],\n",
        "                  \"NN\":                    [],\n",
        "                  \"RL\":                    [],\n",
        "                  \"DL\":                    [],\n",
        "                  \"CV\":                    [],\n",
        "                  \"Some_Project\":          [],\n",
        "                  \"Hadoop\":                [],\n",
        "                  \"Algorithms\":            [],\n",
        "                  \"Solo1_Team2\":           [],\n",
        "                  \"Review\":                []})\n",
        "df_main = df_main.set_index('Date')"
      ],
      "execution_count": 0,
      "outputs": []
    },
    {
      "metadata": {
        "id": "BQlFoWctzUnc",
        "colab_type": "text"
      },
      "cell_type": "markdown",
      "source": [
        "# Python"
      ]
    },
    {
      "metadata": {
        "id": "BLBy9s0IzXJl",
        "colab_type": "code",
        "colab": {}
      },
      "cell_type": "code",
      "source": [
        "# Date\n",
        "# Question\n",
        "## Answer"
      ],
      "execution_count": 0,
      "outputs": []
    },
    {
      "metadata": {
        "id": "VCS9PTQA1lNR",
        "colab_type": "code",
        "colab": {}
      },
      "cell_type": "code",
      "source": [
        "# New Date\n",
        "# New Question\n",
        "## Answer"
      ],
      "execution_count": 0,
      "outputs": []
    },
    {
      "metadata": {
        "id": "tMd2XolfzYvM",
        "colab_type": "text"
      },
      "cell_type": "markdown",
      "source": [
        "# Pandas"
      ]
    },
    {
      "metadata": {
        "id": "1lnaRxr-zaPu",
        "colab_type": "code",
        "colab": {}
      },
      "cell_type": "code",
      "source": [
        ""
      ],
      "execution_count": 0,
      "outputs": []
    },
    {
      "metadata": {
        "id": "M-ubCgbZzats",
        "colab_type": "text"
      },
      "cell_type": "markdown",
      "source": [
        "# Numpy"
      ]
    },
    {
      "metadata": {
        "id": "CvA8pYORzdgo",
        "colab_type": "code",
        "colab": {}
      },
      "cell_type": "code",
      "source": [
        ""
      ],
      "execution_count": 0,
      "outputs": []
    },
    {
      "metadata": {
        "id": "PreLp84WzeC7",
        "colab_type": "text"
      },
      "cell_type": "markdown",
      "source": [
        "# Matplotlib"
      ]
    },
    {
      "metadata": {
        "id": "_nQNk2TTzgZY",
        "colab_type": "code",
        "colab": {}
      },
      "cell_type": "code",
      "source": [
        ""
      ],
      "execution_count": 0,
      "outputs": []
    },
    {
      "metadata": {
        "id": "K0iYTwVYzi5z",
        "colab_type": "text"
      },
      "cell_type": "markdown",
      "source": [
        "# Seaborn"
      ]
    },
    {
      "metadata": {
        "id": "zgtgSOc2zjf0",
        "colab_type": "code",
        "colab": {}
      },
      "cell_type": "code",
      "source": [
        ""
      ],
      "execution_count": 0,
      "outputs": []
    },
    {
      "metadata": {
        "id": "GG9jrQhizksG",
        "colab_type": "text"
      },
      "cell_type": "markdown",
      "source": [
        "# Math"
      ]
    },
    {
      "metadata": {
        "id": "5mKFO1Q7zqek",
        "colab_type": "code",
        "colab": {}
      },
      "cell_type": "code",
      "source": [
        ""
      ],
      "execution_count": 0,
      "outputs": []
    },
    {
      "metadata": {
        "id": "F0_vApL6zsyZ",
        "colab_type": "text"
      },
      "cell_type": "markdown",
      "source": [
        "# Statistics "
      ]
    },
    {
      "metadata": {
        "id": "EpdqDpmPzw1G",
        "colab_type": "code",
        "colab": {}
      },
      "cell_type": "code",
      "source": [
        ""
      ],
      "execution_count": 0,
      "outputs": []
    },
    {
      "metadata": {
        "id": "DmC2ibejzyB9",
        "colab_type": "text"
      },
      "cell_type": "markdown",
      "source": [
        "# IQ"
      ]
    },
    {
      "metadata": {
        "id": "lCx7IdhozzL2",
        "colab_type": "code",
        "colab": {}
      },
      "cell_type": "code",
      "source": [
        ""
      ],
      "execution_count": 0,
      "outputs": []
    },
    {
      "metadata": {
        "id": "1oq2W3k_z0rr",
        "colab_type": "text"
      },
      "cell_type": "markdown",
      "source": [
        "# SQL"
      ]
    },
    {
      "metadata": {
        "id": "wvEbWmQwz2WA",
        "colab_type": "code",
        "colab": {}
      },
      "cell_type": "code",
      "source": [
        ""
      ],
      "execution_count": 0,
      "outputs": []
    },
    {
      "metadata": {
        "id": "Gbgr8xsiz3Kz",
        "colab_type": "text"
      },
      "cell_type": "markdown",
      "source": [
        "# Data Structures"
      ]
    },
    {
      "metadata": {
        "id": "uLH-vlXZz41Q",
        "colab_type": "code",
        "colab": {}
      },
      "cell_type": "code",
      "source": [
        ""
      ],
      "execution_count": 0,
      "outputs": []
    },
    {
      "metadata": {
        "id": "o3h18znmz5J0",
        "colab_type": "text"
      },
      "cell_type": "markdown",
      "source": [
        "# Big O"
      ]
    },
    {
      "metadata": {
        "id": "XokJpu8dz6i0",
        "colab_type": "code",
        "colab": {}
      },
      "cell_type": "code",
      "source": [
        ""
      ],
      "execution_count": 0,
      "outputs": []
    },
    {
      "metadata": {
        "id": "I6a55v7jz68n",
        "colab_type": "text"
      },
      "cell_type": "markdown",
      "source": [
        "# Regression"
      ]
    },
    {
      "metadata": {
        "id": "P7Ox-LBsz7-q",
        "colab_type": "code",
        "colab": {}
      },
      "cell_type": "code",
      "source": [
        ""
      ],
      "execution_count": 0,
      "outputs": []
    },
    {
      "metadata": {
        "id": "L-aY1Luxz8-O",
        "colab_type": "text"
      },
      "cell_type": "markdown",
      "source": [
        "# (Un)Supervised Learning"
      ]
    },
    {
      "metadata": {
        "id": "6wDNZ5jHz--w",
        "colab_type": "code",
        "colab": {}
      },
      "cell_type": "code",
      "source": [
        ""
      ],
      "execution_count": 0,
      "outputs": []
    },
    {
      "metadata": {
        "id": "pXMahJmZz_Y9",
        "colab_type": "text"
      },
      "cell_type": "markdown",
      "source": [
        "# Clustering"
      ]
    },
    {
      "metadata": {
        "id": "CbcwpopB0CLE",
        "colab_type": "code",
        "colab": {}
      },
      "cell_type": "code",
      "source": [
        ""
      ],
      "execution_count": 0,
      "outputs": []
    },
    {
      "metadata": {
        "id": "2_WYlXwj0Dcm",
        "colab_type": "text"
      },
      "cell_type": "markdown",
      "source": [
        "# Neural Network"
      ]
    },
    {
      "metadata": {
        "id": "MmTmBBsl1gkY",
        "colab_type": "code",
        "colab": {}
      },
      "cell_type": "code",
      "source": [
        ""
      ],
      "execution_count": 0,
      "outputs": []
    },
    {
      "metadata": {
        "id": "gAHl5MCx0FyZ",
        "colab_type": "text"
      },
      "cell_type": "markdown",
      "source": [
        "# Reinforcement Learning"
      ]
    },
    {
      "metadata": {
        "id": "i_n7Z63x0D5p",
        "colab_type": "code",
        "colab": {}
      },
      "cell_type": "code",
      "source": [
        ""
      ],
      "execution_count": 0,
      "outputs": []
    },
    {
      "metadata": {
        "id": "dSjE49pf0HTH",
        "colab_type": "text"
      },
      "cell_type": "markdown",
      "source": [
        "# Deep Learning"
      ]
    },
    {
      "metadata": {
        "id": "lCVaRaGK0II_",
        "colab_type": "code",
        "colab": {}
      },
      "cell_type": "code",
      "source": [
        ""
      ],
      "execution_count": 0,
      "outputs": []
    },
    {
      "metadata": {
        "id": "KY83ll2j0JN5",
        "colab_type": "text"
      },
      "cell_type": "markdown",
      "source": [
        "# Computer Vision"
      ]
    },
    {
      "metadata": {
        "id": "6h9hs64D0JuZ",
        "colab_type": "code",
        "colab": {}
      },
      "cell_type": "code",
      "source": [
        ""
      ],
      "execution_count": 0,
      "outputs": []
    },
    {
      "metadata": {
        "id": "wD1KOr1h0KjT",
        "colab_type": "text"
      },
      "cell_type": "markdown",
      "source": [
        "# Hadoop"
      ]
    },
    {
      "metadata": {
        "id": "9Nhg2mAx0LFP",
        "colab_type": "code",
        "colab": {}
      },
      "cell_type": "code",
      "source": [
        ""
      ],
      "execution_count": 0,
      "outputs": []
    },
    {
      "metadata": {
        "id": "TlXR6mRD0LdW",
        "colab_type": "text"
      },
      "cell_type": "markdown",
      "source": [
        "# Algorithms"
      ]
    },
    {
      "metadata": {
        "id": "VHhFML130NPx",
        "colab_type": "code",
        "colab": {}
      },
      "cell_type": "code",
      "source": [
        ""
      ],
      "execution_count": 0,
      "outputs": []
    },
    {
      "metadata": {
        "id": "iQyXU4Wc0OfB",
        "colab_type": "text"
      },
      "cell_type": "markdown",
      "source": [
        "# Project"
      ]
    },
    {
      "metadata": {
        "id": "SPneR3060Pu6",
        "colab_type": "code",
        "colab": {}
      },
      "cell_type": "code",
      "source": [
        ""
      ],
      "execution_count": 0,
      "outputs": []
    }
  ]
}