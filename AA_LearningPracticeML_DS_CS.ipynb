{
  "nbformat": 4,
  "nbformat_minor": 0,
  "metadata": {
    "colab": {
      "name": "AA-LearningPracticeML_DS_CS.ipynb",
      "version": "0.3.2",
      "provenance": [],
      "toc_visible": true,
      "include_colab_link": true
    },
    "kernelspec": {
      "name": "python3",
      "display_name": "Python 3"
    }
  },
  "cells": [
    {
      "cell_type": "markdown",
      "metadata": {
        "id": "view-in-github",
        "colab_type": "text"
      },
      "source": [
        "<a href=\"https://colab.research.google.com/github/waterFlowin/AA-LearningPracticeML_DS_CS/blob/master/AA_LearningPracticeML_DS_CS.ipynb\" target=\"_parent\"><img src=\"https://colab.research.google.com/assets/colab-badge.svg\" alt=\"Open In Colab\"/></a>"
      ]
    },
    {
      "metadata": {
        "id": "Dd3nuLSk34Ah",
        "colab_type": "text"
      },
      "cell_type": "markdown",
      "source": [
        "# Learn a Concept or Execute Code"
      ]
    },
    {
      "metadata": {
        "id": "WiroBTtxxmwM",
        "colab_type": "code",
        "colab": {}
      },
      "cell_type": "code",
      "source": [
        "# Steps\n",
        "## 1. Write out Question or Desired Learning Action/Goal\n",
        "## 2. Start Timer\n",
        "## 3. Write what you learn\n",
        "## 4. Stop Timer, Record Minutes in df_main\n",
        "## 5. Save commit with relative message\n",
        "\n",
        "# \\/ Below is a Cell Block 'Repetition Example'"
      ],
      "execution_count": 0,
      "outputs": []
    },
    {
      "metadata": {
        "id": "sByxIc_xyOF7",
        "colab_type": "code",
        "colab": {}
      },
      "cell_type": "code",
      "source": [
        "# 120118\n",
        "# Question to be answered here\n",
        "## Answer\n",
        "## Answer\n",
        "## ..."
      ],
      "execution_count": 0,
      "outputs": []
    },
    {
      "metadata": {
        "id": "cZ0G-UBHwzXE",
        "colab_type": "text"
      },
      "cell_type": "markdown",
      "source": [
        "# Always Run toy_df"
      ]
    },
    {
      "metadata": {
        "id": "XxZtXZjewYam",
        "colab_type": "code",
        "colab": {}
      },
      "cell_type": "code",
      "source": [
        "import numpy as np\n",
        "import pandas as pd\n",
        "import seaborn as sns\n",
        "import matplotlib.pyplot as plt\n",
        "\n",
        "# For full view of Data Frame\n",
        "pd.set_option('display.height', 100)\n",
        "pd.set_option('display.max_rows', 50)\n",
        "pd.set_option('display.max_columns', 50)\n",
        "pd.set_option('display.width', 100)\n",
        "\n",
        "# Entries are number of minutes studied\n",
        "toy_df = pd.DataFrame({\n",
        "                  \"Date\":                  [120118,120218,120318,120418,120518,120618],\n",
        "                  \"Python\":                [1,2,3,4,5,0],\n",
        "                  \"Pandas\":                [2,1,2,2,1,0],\n",
        "                  \"Numpy\":                 [2,2,3,4,5,0],\n",
        "                  \"Matplotlib\":            [4,3,1,2,1,0],\n",
        "                  \"Seaborn\":               [1,2,3,4,5,0],\n",
        "                  \"Math\":                  [4,3,1,2,1,0],\n",
        "                  \"Stats\":                 [1,2,3,4,5,0],\n",
        "                  \"Scipy\":                 [3,4,5,2,1,0],\n",
        "                  \"IQ\":                    [5,2,1,1,1,0],\n",
        "                  \"SQL\":                   [1,2,3,4,5,0],\n",
        "                  \"DataStructures\":        [1,2,3,4,5,0],\n",
        "                  \"BigO\":                  [1,2,3,4,5,0],\n",
        "                  \"Regression\":            [3,4,4,1,1,0],\n",
        "                  \"(Un)SupervisedLearning\":[1,2,3,4,5,0],\n",
        "                  \"Clustering\":            [2,3,5,1,4,0],\n",
        "                  \"NN\":                    [3,2,1,4,1,0],\n",
        "                  \"RL\":                    [1,2,3,4,5,0],\n",
        "                  \"DL\":                    [1,2,3,4,1,0],\n",
        "                  \"CV\":                    [3,4,4,1,1,0],\n",
        "                  \"Some_Project\":          [5,2,1,1,1,0],\n",
        "                  \"Hadoop\":                [1,2,3,4,1,0],\n",
        "                  \"Algorithms\":            [1,2,3,4,5,0],\n",
        "                  \"Solo1_Team2\":           [1,1,1,2,2,0],\n",
        "                  \"Review\":                [0,0,0,0,0,14]})\n",
        "toy_df = toy_df.set_index('Date')"
      ],
      "execution_count": 0,
      "outputs": []
    },
    {
      "metadata": {
        "id": "wlhGENK4w6pP",
        "colab_type": "text"
      },
      "cell_type": "markdown",
      "source": [
        "# Main Data Frame"
      ]
    },
    {
      "metadata": {
        "id": "zQ0rin4zw9IN",
        "colab_type": "code",
        "colab": {}
      },
      "cell_type": "code",
      "source": [
        "df_main = pd.DataFrame({\n",
        "                  \"Date\":                  [120318,120418],\n",
        "                  \"Python\":                [0,3],\n",
        "                  \"Pandas\":                [0,2],\n",
        "                  \"Numpy\":                 [0,2],\n",
        "                  \"Matplotlib\":            [0,4],\n",
        "                  \"Seaborn\":               [0,1],\n",
        "                  \"Scipy\":                 [0,3],\n",
        "                  \"Math\":                  [0,1],\n",
        "                  \"Stats\":                 [10,9],\n",
        "                  \"Scipy\":                 [0,4],\n",
        "                  \"IQ\":                    [0,1],\n",
        "                  \"SQL\":                   [0,1],\n",
        "                  \"DataStructures\":        [0,2],\n",
        "                  \"BigO\":                  [0,2],\n",
        "                  \"Regression\":            [0,3],\n",
        "                  \"(Un)SupervisedLearning\":[0,0],\n",
        "                  \"Clustering\":            [0,0],\n",
        "                  \"NN\":                    [0,0],\n",
        "                  \"RL\":                    [0,0],\n",
        "                  \"DL\":                    [0,0],\n",
        "                  \"CV\":                    [0,0],\n",
        "                  \"Some_Project\":          [0,0],\n",
        "                  \"Hadoop\":                [0,0],\n",
        "                  \"Algorithms\":            [0,0],\n",
        "                  \"Solo1_Team2\":           [0,0],\n",
        "                  \"Review\":                [0,0]})\n",
        "df_main = df_main.set_index('Date')"
      ],
      "execution_count": 0,
      "outputs": []
    },
    {
      "metadata": {
        "id": "BQlFoWctzUnc",
        "colab_type": "text"
      },
      "cell_type": "markdown",
      "source": [
        "# Python"
      ]
    },
    {
      "metadata": {
        "id": "rx2MSCvTee11",
        "colab_type": "text"
      },
      "cell_type": "markdown",
      "source": [
        "##120418"
      ]
    },
    {
      "metadata": {
        "id": "BLBy9s0IzXJl",
        "colab_type": "code",
        "colab": {}
      },
      "cell_type": "code",
      "source": [
        "# What is Python?\n",
        "## An interpreted,\n",
        "    # object-oriented,\n",
        "    # high-level programming language with dynamic semantics.\n",
        "    \n",
        "# dynamic typing\n",
        "# dynamic binding"
      ],
      "execution_count": 0,
      "outputs": []
    },
    {
      "metadata": {
        "id": "tMd2XolfzYvM",
        "colab_type": "text"
      },
      "cell_type": "markdown",
      "source": [
        "# Pandas"
      ]
    },
    {
      "metadata": {
        "id": "YCtoO0hpfsAG",
        "colab_type": "text"
      },
      "cell_type": "markdown",
      "source": [
        "##120418"
      ]
    },
    {
      "metadata": {
        "id": "1lnaRxr-zaPu",
        "colab_type": "code",
        "colab": {}
      },
      "cell_type": "code",
      "source": [
        "# What is Pandas?\n",
        "## A Python software library for data manipulation and analysis.\n",
        "import pandas as pd"
      ],
      "execution_count": 0,
      "outputs": []
    },
    {
      "metadata": {
        "id": "M-ubCgbZzats",
        "colab_type": "text"
      },
      "cell_type": "markdown",
      "source": [
        "# Numpy"
      ]
    },
    {
      "metadata": {
        "id": "DF8XfE_ogZKq",
        "colab_type": "text"
      },
      "cell_type": "markdown",
      "source": [
        "##120418"
      ]
    },
    {
      "metadata": {
        "id": "CvA8pYORzdgo",
        "colab_type": "code",
        "colab": {}
      },
      "cell_type": "code",
      "source": [
        "# What is Numpy\n",
        "## A Python extension module\n",
        "## NumPy Provides fast and efficient operations on arrays of homogeneous data.\n",
        "## NumPy extends python into a high-level language for manipulating numerical data\n",
        "import numpy as np"
      ],
      "execution_count": 0,
      "outputs": []
    },
    {
      "metadata": {
        "id": "PreLp84WzeC7",
        "colab_type": "text"
      },
      "cell_type": "markdown",
      "source": [
        "# Matplotlib"
      ]
    },
    {
      "metadata": {
        "id": "6ctQAYszhHl8",
        "colab_type": "text"
      },
      "cell_type": "markdown",
      "source": [
        "##120418"
      ]
    },
    {
      "metadata": {
        "id": "_nQNk2TTzgZY",
        "colab_type": "code",
        "colab": {}
      },
      "cell_type": "code",
      "source": [
        "# What is Matplotlib?\n",
        "## A Plotting library for the Python programming language and Numpy (its numerical mathematics extension)\n",
        "## Provides an object-oriented API for embedding plots into applications using general-purpose GUI toolkits\n",
        "import matplotlib.pyplot as plt"
      ],
      "execution_count": 0,
      "outputs": []
    },
    {
      "metadata": {
        "id": "K0iYTwVYzi5z",
        "colab_type": "text"
      },
      "cell_type": "markdown",
      "source": [
        "# Seaborn"
      ]
    },
    {
      "metadata": {
        "id": "5b7BkNCoh6qP",
        "colab_type": "text"
      },
      "cell_type": "markdown",
      "source": [
        "##120418"
      ]
    },
    {
      "metadata": {
        "id": "zgtgSOc2zjf0",
        "colab_type": "code",
        "colab": {}
      },
      "cell_type": "code",
      "source": [
        "# What is Seaborn?\n",
        "## Statistical data visualization\n",
        "## Seaborn is a Python data visualization library based on matplotlib\n",
        "## Provides a high-level interface for drawing attractive and informative statistical graphics\n",
        "import seaborn as sns"
      ],
      "execution_count": 0,
      "outputs": []
    },
    {
      "metadata": {
        "id": "XZ7Wzx_ET_js",
        "colab_type": "text"
      },
      "cell_type": "markdown",
      "source": [
        "# Scipy"
      ]
    },
    {
      "metadata": {
        "id": "0Cm_a-m9il4E",
        "colab_type": "text"
      },
      "cell_type": "markdown",
      "source": [
        "##120418"
      ]
    },
    {
      "metadata": {
        "id": "Uv1HCm09UBst",
        "colab_type": "code",
        "colab": {}
      },
      "cell_type": "code",
      "source": [
        "# What is Scipy?\n",
        "## Python library used for scientific computing and technical computing.\n",
        "from scipy import stats"
      ],
      "execution_count": 0,
      "outputs": []
    },
    {
      "metadata": {
        "id": "GG9jrQhizksG",
        "colab_type": "text"
      },
      "cell_type": "markdown",
      "source": [
        "# Math"
      ]
    },
    {
      "metadata": {
        "id": "A-PonkQEoYZH",
        "colab_type": "text"
      },
      "cell_type": "markdown",
      "source": [
        "##120418"
      ]
    },
    {
      "metadata": {
        "id": "5mKFO1Q7zqek",
        "colab_type": "code",
        "colab": {}
      },
      "cell_type": "code",
      "source": [
        "# Math disciplines that make up Machine Learning.\n",
        "## Linear Algebra\n",
        "## Probability Theory\n",
        "## Calculus\n",
        "## Statistics"
      ],
      "execution_count": 0,
      "outputs": []
    },
    {
      "metadata": {
        "id": "F0_vApL6zsyZ",
        "colab_type": "text"
      },
      "cell_type": "markdown",
      "source": [
        "# Statistics "
      ]
    },
    {
      "metadata": {
        "id": "faEFYgXsdxZ0",
        "colab_type": "text"
      },
      "cell_type": "markdown",
      "source": [
        "##120318"
      ]
    },
    {
      "metadata": {
        "id": "EpdqDpmPzw1G",
        "colab_type": "code",
        "colab": {}
      },
      "cell_type": "code",
      "source": [
        "# What is Frequency Perspective\n",
        "## An interpretation of probability\n",
        "## It defines an event's probability as the limit of its relative frequency in a large number of trials\n",
        "\n",
        "# What is P-Value?\n",
        "## Probability Value\n",
        "## A calculation that we make during hypothesis testing to determine if we reject the null hypothesis or fail to reject it\n",
        "\n",
        "# What is Ttest\n",
        "## A type of inferential statistic which is used to determine if there is a significant difference between the means of two groups which may be related\n",
        "\n",
        "# What is Null Hypothesis?\n",
        "## Default position that there is no relationship between two measured phenomena\n",
        "## It proposes no statistical significance exists in a set of given observations\n",
        "## The null hypothesis attempts to show that no variation exists between variables OR that a single variable is no different than its mean.\n",
        "## NH is presumed to be true until statistical evidence nullifies it for an alternative hypothesis.\n",
        "## The null hypothesis is that the rows/cols are independent -> low chi square\n",
        "\n",
        "# What is Degree of Freedom?\n",
        "## Freedom to Vary"
      ],
      "execution_count": 0,
      "outputs": []
    },
    {
      "metadata": {
        "id": "E6ahQljYK-Og",
        "colab_type": "text"
      },
      "cell_type": "markdown",
      "source": [
        "##120418"
      ]
    },
    {
      "metadata": {
        "id": "cl_sva1VKMD5",
        "colab_type": "code",
        "colab": {}
      },
      "cell_type": "code",
      "source": [
        "# What is a Probability distribution?\n",
        "## Mathematical function that provides the probabilities of occurrence of different possible outcomes in an experiment.\n",
        "\n",
        "# List of Probability Distributions\n",
        "## Bernoulli, Beta, Binomial,\n",
        "## Chi-Squared, Exponential, Gamma, Geometric, Hypergeometric,\n",
        "## Log Normal, Negative Binomial, Normal (Gaussian), Poisson\n",
        "## Student's t, Uniform, Weibull\n",
        "\n",
        "# Chi-Squared Distribution\n",
        "## Distribution of a sum of the squares of Independent Standard Normal Random Variables\n",
        "\n",
        "# Binomial(n,p)\n",
        "## Is a Discreet Probability Distribution. n=trials, p=probability of success\n",
        "\n",
        "# What is Skewness?\n",
        "## Asymmetry in a statistical distribution, in which the curve appears distorted or skewed either to the left or to the right.\n",
        "## Skewness can be quantified to define the extent to which a distribution differs from a normal distribution.\n",
        "\n",
        "# Why Chi-Square Test\n",
        "## for Independence.\n",
        "## It is used to determine whether there is a significant association between the two variables.\n",
        "\n",
        "## Chi square can take any crosstab/table and test the independence of rows/cols\n",
        "\n",
        "## The alternative is that there is a dependence -> high chi square\n",
        "## Be aware! Chi square does *not* tell you direction/causation"
      ],
      "execution_count": 0,
      "outputs": []
    },
    {
      "metadata": {
        "id": "ndoWO-hJZ_w_",
        "colab_type": "code",
        "colab": {
          "base_uri": "https://localhost:8080/",
          "height": 51
        },
        "outputId": "cca132a4-5174-48ed-bca7-f0a4369dbbe7"
      },
      "cell_type": "code",
      "source": [
        "from scipy import stats\n",
        "# Binomial\n",
        "b1 = stats.binom(n=100, p=0.6)\n",
        "\n",
        "print(b1.mean())\n",
        "print(b1.median())"
      ],
      "execution_count": 25,
      "outputs": [
        {
          "output_type": "stream",
          "text": [
            "60.0\n",
            "60.0\n"
          ],
          "name": "stdout"
        }
      ]
    },
    {
      "metadata": {
        "id": "HKgpYs-7aIYk",
        "colab_type": "code",
        "colab": {
          "base_uri": "https://localhost:8080/",
          "height": 51
        },
        "outputId": "7c24f4e9-a5bb-4da7-db7b-8a834a67ed4a"
      },
      "cell_type": "code",
      "source": [
        "import random\n",
        "random.seed(100) # Reproducibility! Next line should give 2386\n",
        "random.randint(0, 10000)\n",
        "\n",
        "chi2 = stats.chi2(5)\n",
        "\n",
        "print(chi2.mean())\n",
        "print(chi2.median())"
      ],
      "execution_count": 26,
      "outputs": [
        {
          "output_type": "stream",
          "text": [
            "5.0\n",
            "4.351460191095526\n"
          ],
          "name": "stdout"
        }
      ]
    },
    {
      "metadata": {
        "id": "DmC2ibejzyB9",
        "colab_type": "text"
      },
      "cell_type": "markdown",
      "source": [
        "# IQ"
      ]
    },
    {
      "metadata": {
        "id": "FKM5rJhrphu-",
        "colab_type": "text"
      },
      "cell_type": "markdown",
      "source": [
        "##120418"
      ]
    },
    {
      "metadata": {
        "id": "lCx7IdhozzL2",
        "colab_type": "code",
        "colab": {}
      },
      "cell_type": "code",
      "source": [
        "# What is the difference between supervised and unsupervised machine learning?\n",
        "## Supervised Learning is inferring a function from labeled training data\n",
        "## Unsupervised Learning is used to draw inferences from datasets consisting of input data without labeled responses"
      ],
      "execution_count": 0,
      "outputs": []
    },
    {
      "metadata": {
        "id": "1oq2W3k_z0rr",
        "colab_type": "text"
      },
      "cell_type": "markdown",
      "source": [
        "# SQL"
      ]
    },
    {
      "metadata": {
        "id": "8HsXBYGOqaUx",
        "colab_type": "text"
      },
      "cell_type": "markdown",
      "source": [
        "##120418"
      ]
    },
    {
      "metadata": {
        "id": "wvEbWmQwz2WA",
        "colab_type": "code",
        "colab": {}
      },
      "cell_type": "code",
      "source": [
        "# What is SQL?\n",
        "## domain-specific language used in programming and designed for managing data held in a relational database management system\n",
        "## OR for stream processing in a relational data stream management system"
      ],
      "execution_count": 0,
      "outputs": []
    },
    {
      "metadata": {
        "id": "Gbgr8xsiz3Kz",
        "colab_type": "text"
      },
      "cell_type": "markdown",
      "source": [
        "# Data Structures"
      ]
    },
    {
      "metadata": {
        "id": "lmcJtmSSq4cY",
        "colab_type": "text"
      },
      "cell_type": "markdown",
      "source": [
        "##120418"
      ]
    },
    {
      "metadata": {
        "id": "uLH-vlXZz41Q",
        "colab_type": "code",
        "colab": {}
      },
      "cell_type": "code",
      "source": [
        "# What is a Data Structure?\n",
        "## A data organization, management and storage format that enables efficient access and modification\n",
        "## A collection of data values, the relationships among them, and the functions or operations that can be applied to the data.\n",
        "\n",
        "# Data Structures List\n",
        "# Array,\n",
        "# Linked Lists,\n",
        "# Stack,\n",
        "# Queues,\n",
        "# Trees,\n",
        "# Graphs,\n",
        "# Sets,\n",
        "# Hash Tables"
      ],
      "execution_count": 0,
      "outputs": []
    },
    {
      "metadata": {
        "id": "o3h18znmz5J0",
        "colab_type": "text"
      },
      "cell_type": "markdown",
      "source": [
        "# Big O"
      ]
    },
    {
      "metadata": {
        "id": "02WOhyxvrpk4",
        "colab_type": "text"
      },
      "cell_type": "markdown",
      "source": [
        "##120418"
      ]
    },
    {
      "metadata": {
        "id": "XokJpu8dz6i0",
        "colab_type": "code",
        "colab": {}
      },
      "cell_type": "code",
      "source": [
        "# What is Big O Notation?\n",
        "## Big O notation is a mathematical notation that describes the limiting behavior of a function.\n",
        "## Big O notation is what describes the performance or time complexity of an algorithm."
      ],
      "execution_count": 0,
      "outputs": []
    },
    {
      "metadata": {
        "id": "I6a55v7jz68n",
        "colab_type": "text"
      },
      "cell_type": "markdown",
      "source": [
        "# Regression"
      ]
    },
    {
      "metadata": {
        "id": "r8R8PyVUsEc8",
        "colab_type": "text"
      },
      "cell_type": "markdown",
      "source": [
        "##120418"
      ]
    },
    {
      "metadata": {
        "id": "P7Ox-LBsz7-q",
        "colab_type": "code",
        "colab": {}
      },
      "cell_type": "code",
      "source": [
        "# What is Regression in Machine Learning?\n",
        "## Used for prediction and forecasting\n",
        "## Basically a statistical approach to find the relationship between variables\n",
        "## Used to predict the outcome of an event based on the relationship between variables obtained from the data-set\n",
        "\n",
        "# List of Known Regressions\n",
        "## Linear Regression\n",
        "## Logistic Regression\n",
        "## Polynomial Regression\n",
        "## Stepwise Regression\n",
        "## Ridge Regression\n",
        "## Lasso Regression\n",
        "## ElasticNet Regression"
      ],
      "execution_count": 0,
      "outputs": []
    },
    {
      "metadata": {
        "id": "L-aY1Luxz8-O",
        "colab_type": "text"
      },
      "cell_type": "markdown",
      "source": [
        "# (Un)Supervised Learning"
      ]
    },
    {
      "metadata": {
        "id": "6wDNZ5jHz--w",
        "colab_type": "code",
        "colab": {}
      },
      "cell_type": "code",
      "source": [
        ""
      ],
      "execution_count": 0,
      "outputs": []
    },
    {
      "metadata": {
        "id": "pXMahJmZz_Y9",
        "colab_type": "text"
      },
      "cell_type": "markdown",
      "source": [
        "# Clustering"
      ]
    },
    {
      "metadata": {
        "id": "CbcwpopB0CLE",
        "colab_type": "code",
        "colab": {}
      },
      "cell_type": "code",
      "source": [
        ""
      ],
      "execution_count": 0,
      "outputs": []
    },
    {
      "metadata": {
        "id": "2_WYlXwj0Dcm",
        "colab_type": "text"
      },
      "cell_type": "markdown",
      "source": [
        "# Neural Network"
      ]
    },
    {
      "metadata": {
        "id": "MmTmBBsl1gkY",
        "colab_type": "code",
        "colab": {}
      },
      "cell_type": "code",
      "source": [
        ""
      ],
      "execution_count": 0,
      "outputs": []
    },
    {
      "metadata": {
        "id": "gAHl5MCx0FyZ",
        "colab_type": "text"
      },
      "cell_type": "markdown",
      "source": [
        "# Reinforcement Learning"
      ]
    },
    {
      "metadata": {
        "id": "i_n7Z63x0D5p",
        "colab_type": "code",
        "colab": {}
      },
      "cell_type": "code",
      "source": [
        ""
      ],
      "execution_count": 0,
      "outputs": []
    },
    {
      "metadata": {
        "id": "dSjE49pf0HTH",
        "colab_type": "text"
      },
      "cell_type": "markdown",
      "source": [
        "# Deep Learning"
      ]
    },
    {
      "metadata": {
        "id": "lCVaRaGK0II_",
        "colab_type": "code",
        "colab": {}
      },
      "cell_type": "code",
      "source": [
        ""
      ],
      "execution_count": 0,
      "outputs": []
    },
    {
      "metadata": {
        "id": "KY83ll2j0JN5",
        "colab_type": "text"
      },
      "cell_type": "markdown",
      "source": [
        "# Computer Vision"
      ]
    },
    {
      "metadata": {
        "id": "6h9hs64D0JuZ",
        "colab_type": "code",
        "colab": {}
      },
      "cell_type": "code",
      "source": [
        ""
      ],
      "execution_count": 0,
      "outputs": []
    },
    {
      "metadata": {
        "id": "wD1KOr1h0KjT",
        "colab_type": "text"
      },
      "cell_type": "markdown",
      "source": [
        "# Hadoop"
      ]
    },
    {
      "metadata": {
        "id": "9Nhg2mAx0LFP",
        "colab_type": "code",
        "colab": {}
      },
      "cell_type": "code",
      "source": [
        ""
      ],
      "execution_count": 0,
      "outputs": []
    },
    {
      "metadata": {
        "id": "TlXR6mRD0LdW",
        "colab_type": "text"
      },
      "cell_type": "markdown",
      "source": [
        "# Algorithms"
      ]
    },
    {
      "metadata": {
        "id": "VHhFML130NPx",
        "colab_type": "code",
        "colab": {}
      },
      "cell_type": "code",
      "source": [
        ""
      ],
      "execution_count": 0,
      "outputs": []
    },
    {
      "metadata": {
        "id": "iQyXU4Wc0OfB",
        "colab_type": "text"
      },
      "cell_type": "markdown",
      "source": [
        "# Project"
      ]
    },
    {
      "metadata": {
        "id": "SPneR3060Pu6",
        "colab_type": "code",
        "colab": {}
      },
      "cell_type": "code",
      "source": [
        ""
      ],
      "execution_count": 0,
      "outputs": []
    }
  ]
}